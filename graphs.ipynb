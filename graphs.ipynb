{
 "cells": [
  {
   "cell_type": "code",
   "execution_count": null,
   "metadata": {},
   "outputs": [],
   "source": [
    "import numpy as np\n",
    "import matplotlib.pyplot as plt"
   ]
  },
  {
   "cell_type": "code",
   "execution_count": null,
   "metadata": {},
   "outputs": [],
   "source": [
    "# plot elliptic curves over the reals\n",
    "# y^2 = x^3 + ax + b\n",
    "\n",
    "fig, ax = plt.subplots(4, 4, figsize=(9,9))\n",
    "\n",
    "\n",
    "fig.subplots_adjust(hspace=0.5, wspace=0.3)\n",
    "\n",
    "# plot the curves\n",
    "for i in range(4):\n",
    "    for j in range(4):\n",
    "        a = i - 3\n",
    "        b = j - 1\n",
    "        \n",
    "        x = np.linspace(-10,10,1000)\n",
    "        y = np.linspace(-10,10,1000)\n",
    "        X,Y = np.meshgrid(x,y)\n",
    "        Z = Y**2 - X**3 - a*X - b\n",
    "        ax[i,j].contour(X,Y,Z,[0])\n",
    "        ax[i,j].set_title('a = {}, b = {}'.format(a,b), color='purple')\n",
    "        ax[i,j].set_xlim(-5,5)\n",
    "        ax[i,j].set_ylim(-5,5)\n",
    "        ax[i,j].set_aspect('equal')\n",
    "        ax[i,j].grid(True)\n",
    "        ax[i,j].set_xticks(np.arange(-5,6,5))\n",
    "        ax[i,j].set_yticks(np.arange(-5,6,5))\n",
    "\n",
    "        ax[i,j].tick_params(axis='both', colors='grey')\n",
    "        \n",
    "        # color the axes light gray\n",
    "        for spine in ax[i,j].spines.values():\n",
    "            spine.set_color('grey')\n",
    "            \n",
    "\n",
    "plt.show()\n",
    "\n",
    "fig.savefig('elliptic_curves.png', dpi=400)\n",
    "\n"
   ]
  }
 ],
 "metadata": {
  "kernelspec": {
   "display_name": "Python 3.10.8 64-bit (microsoft store)",
   "language": "python",
   "name": "python3"
  },
  "language_info": {
   "codemirror_mode": {
    "name": "ipython",
    "version": 3
   },
   "file_extension": ".py",
   "mimetype": "text/x-python",
   "name": "python",
   "nbconvert_exporter": "python",
   "pygments_lexer": "ipython3",
   "version": "3.10.8"
  },
  "orig_nbformat": 4,
  "vscode": {
   "interpreter": {
    "hash": "e0acaf148705ed9ed86cc5cad12259d7985e30670e5686e5f55604a9b3b84a55"
   }
  }
 },
 "nbformat": 4,
 "nbformat_minor": 2
}
