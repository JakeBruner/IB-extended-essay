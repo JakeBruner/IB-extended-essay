{
 "cells": [
  {
   "cell_type": "code",
   "execution_count": null,
   "metadata": {},
   "outputs": [],
   "source": [
    "import numpy as np\n",
    "import matplotlib.pyplot as plt\n",
    "import matplotlib as mpl"
   ]
  },
  {
   "cell_type": "code",
   "execution_count": null,
   "metadata": {},
   "outputs": [],
   "source": [
    "# plot elliptic curves over the reals\n",
    "# y^2 = x^3 + ax + b\n",
    "\n",
    "\n",
    "fig, ax = plt.subplots(3, 4, figsize=(9,9))\n",
    "\n",
    "    \n",
    "\n",
    "fig.subplots_adjust(hspace=0.1, wspace=0.3)\n",
    "\n",
    "# make the margins smaller\n",
    "for a in ax.flat:\n",
    "    a.margins(0)\n",
    "\n",
    "# plot the curves\n",
    "for i in range(3):\n",
    "    for j in range(4):\n",
    "        a = i - 3\n",
    "        b = j - 1\n",
    "        \n",
    "        x = np.linspace(-10,10,1000)\n",
    "        y = np.linspace(-10,10,1000)\n",
    "        X,Y = np.meshgrid(x,y)\n",
    "        Z = Y**2 - X**3 - a*X - b\n",
    "        ax[i,j].contour(X,Y,Z,[0])\n",
    "        ax[i,j].set_title(r'$a = {},\\ b = {}$'.format(a,b), color='purple')\n",
    "        ax[i,j].set_xlim(-5,5)\n",
    "        ax[i,j].set_ylim(-5,5)\n",
    "        ax[i,j].set_aspect('equal')\n",
    "        ax[i,j].grid(True)\n",
    "        ax[i,j].set_xticks(np.arange(-5,6,5))\n",
    "        ax[i,j].set_yticks(np.arange(-5,6,5))\n",
    "\n",
    "        ax[i,j].tick_params(axis='both', colors='grey')\n",
    "        \n",
    "        # color the axes light gray\n",
    "        for spine in ax[i,j].spines.values():\n",
    "            spine.set_color('grey')\n",
    "            \n",
    "\n",
    "plt.show()\n",
    "\n",
    "fig.savefig('../images/elliptic_curves.png', dpi=400)\n",
    "\n"
   ]
  },
  {
   "cell_type": "code",
   "execution_count": null,
   "metadata": {},
   "outputs": [],
   "source": [
    "# graph the function f(x) = x^3 - 3x + 1\n",
    "# plotting sqrt(f(x)) on the same axes\n",
    "\n",
    "fig, ax = plt.subplots(figsize=(9,9))\n",
    "\n",
    "x = np.linspace(-10,10,30000)\n",
    "y = x**3 - 3*x + 1\n",
    "sqrty = np.sqrt(y)\n",
    "\n",
    "# for a in ax.flat:\n",
    "#   a.margins(0.05)\n",
    "\n",
    "# change the math fonts to serif\n",
    "# mpl.rcParams['font.family'] = 'serif'\n",
    "# mpl.rcParams['font.serif'] = 'Computer Modern Roman'\n",
    "\n",
    "ax.margins(0)\n",
    "\n",
    "cmr10 = {'fontname':'serif'}\n",
    "\n",
    "ax.plot(x,y, color='violet')\n",
    "ax.plot(x,sqrty, color='red')\n",
    "# label the graphs with latex equations\n",
    "ax.text(0.1, 1.5, r'$f(x) = x^3 - 3x + 1$', fontsize=15, color='violet', **cmr10)\n",
    "ax.text(-1.3, 1.05, r'$\\sqrt{f(x)}$', fontsize=15, color='red', **cmr10)\n",
    "\n",
    "ax.set_xlim(-3,3)\n",
    "ax.set_ylim(-2,3)\n",
    "ax.set_aspect('equal')\n",
    "ax.grid(True)\n",
    "\n",
    "ax.axhline(y=0, color='black')\n",
    "\n",
    "# label the axes\n",
    "ax.set_xlabel('x', fontsize=15)\n",
    "ax.set_ylabel('y', fontsize=15)\n",
    "\n",
    "ax.tick_params(axis='both')\n",
    "        \n",
    "# # color the axes light gray\n",
    "# for spine in ax.spines.values():\n",
    "#     spine.set_color('grey')\n",
    "\n",
    "plt.show()\n",
    "\n",
    "fig.savefig('../images/cubic_function.png', dpi=400)"
   ]
  }
 ],
 "metadata": {
  "kernelspec": {
   "display_name": "Python 3.10.6 64-bit",
   "language": "python",
   "name": "python3"
  },
  "language_info": {
   "codemirror_mode": {
    "name": "ipython",
    "version": 3
   },
   "file_extension": ".py",
   "mimetype": "text/x-python",
   "name": "python",
   "nbconvert_exporter": "python",
   "pygments_lexer": "ipython3",
   "version": "3.10.6"
  },
  "orig_nbformat": 4,
  "vscode": {
   "interpreter": {
    "hash": "369f2c481f4da34e4445cda3fffd2e751bd1c4d706f27375911949ba6bb62e1c"
   }
  }
 },
 "nbformat": 4,
 "nbformat_minor": 2
}
